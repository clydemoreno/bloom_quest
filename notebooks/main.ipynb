{
 "cells": [
  {
   "cell_type": "code",
   "execution_count": 2,
   "metadata": {},
   "outputs": [
    {
     "name": "stdout",
     "output_type": "stream",
     "text": [
      "Expected False Positive Probability: 0.01\n",
      "Observed False Positive Probability: 0.973589\n",
      "Observed True Negative Rate: 0.026411\n"
     ]
    }
   ],
   "source": [
    "import sys\n",
    "sys.path.append('../domain/aggregates/')\n",
    "import bloom_filter as bf\n",
    "\n"
   ]
  },
  {
   "cell_type": "code",
   "execution_count": null,
   "metadata": {},
   "outputs": [],
   "source": [
    "expected_elements = 1000\n",
    "false_positive_prob = 0.01  # 1% false positive probability\n",
    "num_trials = 1000\n",
    "\n",
    "size = bf.calculate_bloom_filter_size(expected_elements, false_positive_prob)\n",
    "num_hash_functions = bf.calculate_number_of_hashes(size, expected_elements)\n",
    "bloom_filter = bf.BloomFilter(size, num_hash_functions)\n"
   ]
  }
 ],
 "metadata": {
  "kernelspec": {
   "display_name": "Python 3",
   "language": "python",
   "name": "python3"
  },
  "language_info": {
   "codemirror_mode": {
    "name": "ipython",
    "version": 3
   },
   "file_extension": ".py",
   "mimetype": "text/x-python",
   "name": "python",
   "nbconvert_exporter": "python",
   "pygments_lexer": "ipython3",
   "version": "3.9.16"
  },
  "orig_nbformat": 4
 },
 "nbformat": 4,
 "nbformat_minor": 2
}
